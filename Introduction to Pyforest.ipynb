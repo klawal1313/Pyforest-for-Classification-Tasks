{
 "cells": [
  {
   "cell_type": "code",
   "execution_count": null,
   "id": "12b2b251",
   "metadata": {},
   "outputs": [],
   "source": [
    "#Installing pyforest\n",
    "pip install pyforest\n"
   ]
  },
  {
   "cell_type": "code",
   "execution_count": 1,
   "id": "be6ab040",
   "metadata": {},
   "outputs": [],
   "source": [
    "# Working with  pyforest\n",
    "import pyforest\n"
   ]
  },
  {
   "cell_type": "code",
   "execution_count": 2,
   "id": "b0732d60",
   "metadata": {},
   "outputs": [
    {
     "data": {
      "application/javascript": [
       "\n",
       "        if (window._pyforest_update_imports_cell) { window._pyforest_update_imports_cell('import pandas as pd'); }\n",
       "    "
      ],
      "text/plain": [
       "<IPython.core.display.Javascript object>"
      ]
     },
     "metadata": {},
     "output_type": "display_data"
    },
    {
     "name": "stdout",
     "output_type": "stream",
     "text": [
      "   A  B\n",
      "0  1  4\n",
      "1  2  5\n",
      "2  3  6\n"
     ]
    },
    {
     "data": {
      "application/javascript": [
       "\n",
       "        if (window._pyforest_update_imports_cell) { window._pyforest_update_imports_cell('import pandas as pd\\nimport numpy as np'); }\n",
       "    "
      ],
      "text/plain": [
       "<IPython.core.display.Javascript object>"
      ]
     },
     "metadata": {},
     "output_type": "display_data"
    },
    {
     "name": "stdout",
     "output_type": "stream",
     "text": [
      "[1 2 3]\n"
     ]
    },
    {
     "data": {
      "application/javascript": [
       "\n",
       "        if (window._pyforest_update_imports_cell) { window._pyforest_update_imports_cell('import seaborn as sns\\nimport pandas as pd\\nimport numpy as np'); }\n",
       "    "
      ],
      "text/plain": [
       "<IPython.core.display.Javascript object>"
      ]
     },
     "metadata": {},
     "output_type": "display_data"
    },
    {
     "data": {
      "text/plain": [
       "<AxesSubplot:xlabel='A', ylabel='B'>"
      ]
     },
     "execution_count": 2,
     "metadata": {},
     "output_type": "execute_result"
    },
    {
     "data": {
      "image/png": "[encoded data removed]",
      "text/plain": [
       "<Figure size 432x288 with 1 Axes>"
      ]
     },
     "metadata": {
      "needs_background": "light"
     },
     "output_type": "display_data"
    }
   ],
   "source": [
    "# Without manually importing, you can use pandas\n",
    "df = pd.DataFrame({\n",
    "    'A': [1, 2, 3],\n",
    "    'B': [4, 5, 6]\n",
    "})\n",
    "\n",
    "# Display the dataframe\n",
    "print(df)\n",
    "\n",
    "# You can also use matplotlib without explicit import\n",
    "df.plot(kind='bar')\n",
    "\n",
    "# Use numpy without needing to import it\n",
    "arr = np.array([1, 2, 3])\n",
    "print(arr)\n",
    "\n",
    "# Use seaborn for visualization\n",
    "sns.barplot(x='A', y='B', data=df)\n"
   ]
  },
  {
   "cell_type": "markdown",
   "id": "cc47655a",
   "metadata": {},
   "source": [
    "Supported Libraries\n",
    "\n",
    "Some of the popular libraries pyforest supports include:\n",
    "\n",
    "pandas as pd\n",
    "numpy as np\n",
    "matplotlib.pyplot as plt\n",
    "seaborn as sns\n",
    "sklearn\n",
    "tensorflow\n",
    "keras\n",
    "plotly\n",
    "openpyxl\n",
    "os, sys"
   ]
  },
  {
   "cell_type": "markdown",
   "id": "ca29ff8b",
   "metadata": {},
   "source": [
    "Checking Which Libraries Have Been Imported\n",
    "After writing your script, you can check which libraries were lazily imported by running:"
   ]
  },
  {
   "cell_type": "code",
   "execution_count": 3,
   "id": "199d8eba",
   "metadata": {},
   "outputs": [
    {
     "name": "stdout",
     "output_type": "stream",
     "text": [
      "import seaborn as sns\n",
      "import pandas as pd\n",
      "import numpy as np\n"
     ]
    },
    {
     "data": {
      "text/plain": [
       "['import seaborn as sns', 'import pandas as pd', 'import numpy as np']"
      ]
     },
     "execution_count": 3,
     "metadata": {},
     "output_type": "execute_result"
    }
   ],
   "source": [
    "pyforest.active_imports()\n",
    "\n",
    "#This command shows which libraries were loaded and used in your code."
   ]
  },
  {
   "cell_type": "markdown",
   "id": "3046263d",
   "metadata": {},
   "source": [
    "# Lazy Loading Overview\n",
    "\n",
    "Lazy loading is a design pattern that delays the initialization or \n",
    "loading of an object or resource until it is actually needed, \n",
    "rather than loading it upfront. This can save memory, \n",
    "reduce startup time, and optimize performance, especially when not all resources are required immediately or \n",
    "might not be needed at all.\n",
    "\n",
    "In the context of programming, lazy loading is commonly used for:\n",
    "\n",
    "Libraries: As seen in tools like pyforest, libraries are not imported until a function or class from the library is used.\n",
    "Images or Data: In web development, images and other resources are loaded only when they enter the viewport or are requested by the user.\n",
    "How Lazy Loading Works\n",
    "\n",
    "1. Deferred Initialization:\n",
    "\n",
    "With lazy loading, instead of initializing an object or importing a library right at the start of the program, a placeholder (or proxy) is created.\n",
    "The actual loading or initialization only happens when the resource is explicitly accessed.\n",
    "This saves time and memory, particularly in applications where not all resources are used in every run.\n",
    "2. Example of Lazy Loading with Libraries (Using pyforest): In the case of pyforest, the libraries are not imported at the beginning of your script.\n",
    "\n",
    "Instead, when you try to use a function or class from a specific library (e.g., pandas), pyforest automatically detects it and imports pandas for you. \n",
    "Until you use a function from pandas, it remains unloaded, saving memory and reducing startup time."
   ]
  },
  {
   "cell_type": "code",
   "execution_count": 4,
   "id": "4c3b3e37",
   "metadata": {},
   "outputs": [
    {
     "data": {
      "application/javascript": [
       "\n",
       "        if (window._pyforest_update_imports_cell) { window._pyforest_update_imports_cell('import seaborn as sns\\nimport pandas as pd\\nimport numpy as np'); }\n",
       "    "
      ],
      "text/plain": [
       "<IPython.core.display.Javascript object>"
      ]
     },
     "metadata": {},
     "output_type": "display_data"
    }
   ],
   "source": [
    "# You haven't imported pandas explicitly here.\n",
    "# Pyforest will lazily import pandas when this line is executed.\n",
    "df = pd.DataFrame({\n",
    "    'A': [1, 2, 3],\n",
    "    'B': [4, 5, 6]\n",
    "})\n"
   ]
  },
  {
   "cell_type": "markdown",
   "id": "90a6951c",
   "metadata": {},
   "source": [
    "# In this example:\n",
    "\n",
    "Initially, pandas is not loaded into memory.\n",
    "When pd.DataFrame() is called, pyforest detects the use of pd and imports pandas.\n",
    "Now, pandas is available in the environment and can be used without any delay.\n",
    "\n",
    "3. Behind the Scenes (Conceptually):\n",
    "Lazy loading is implemented by wrapping the actual object (or import statement) in a function or a special object (often called a proxy object). When the object is called or accessed, the wrapper or proxy performs the actual initialization or import. This is often done using:\n",
    "\n",
    "Conditionals: Checking whether the resource is initialized, and if not, initializing it on demand.\n",
    "Proxy Design Pattern: Wrapping the original object inside another class that controls the access and initialization of the actual object.\n",
    "4. Memory and Performance Benefits:\n",
    "\n",
    "Reduced Memory Footprint: \n",
    "Libraries or resources that are not used during a run of the program are never loaded into memory, saving space.\n",
    "Improved Load Times: By deferring the loading of resources, the program starts up faster. Resources are loaded progressively as needed.\n",
    "\n",
    "Optimized Resource Usage: If the resource is never accessed during the lifetime of the program, it is never loaded, which optimizes overall resource usage."
   ]
  },
  {
   "cell_type": "code",
   "execution_count": 5,
   "id": "b861607a",
   "metadata": {},
   "outputs": [
    {
     "data": {
      "application/javascript": [
       "\n",
       "        if (window._pyforest_update_imports_cell) { window._pyforest_update_imports_cell('import seaborn as sns\\nimport pandas as pd\\nimport numpy as np'); }\n",
       "    "
      ],
      "text/plain": [
       "<IPython.core.display.Javascript object>"
      ]
     },
     "metadata": {},
     "output_type": "display_data"
    },
    {
     "name": "stdout",
     "output_type": "stream",
     "text": [
      "Displaying DataFrame:\n",
      "   Country    GDP\n",
      "0      USA  21.43\n",
      "1   Canada   1.73\n",
      "2  Germany   3.86\n",
      "3       UK   2.83\n",
      "4   France   2.72\n",
      "\n",
      "Plotting GDP of countries:\n"
     ]
    },
    {
     "data": {
      "application/javascript": [
       "\n",
       "        if (window._pyforest_update_imports_cell) { window._pyforest_update_imports_cell('import seaborn as sns\\nimport matplotlib.pyplot as plt\\nimport pandas as pd\\nimport numpy as np'); }\n",
       "    "
      ],
      "text/plain": [
       "<IPython.core.display.Javascript object>"
      ]
     },
     "metadata": {},
     "output_type": "display_data"
    },
    {
     "data": {
      "image/png": "[encoded data removed]",
      "text/plain": [
       "<Figure size 432x288 with 1 Axes>"
      ]
     },
     "metadata": {
      "needs_background": "light"
     },
     "output_type": "display_data"
    },
    {
     "data": {
      "application/javascript": [
       "\n",
       "        if (window._pyforest_update_imports_cell) { window._pyforest_update_imports_cell('import seaborn as sns\\nimport matplotlib.pyplot as plt\\nimport pandas as pd\\nimport numpy as np'); }\n",
       "    "
      ],
      "text/plain": [
       "<IPython.core.display.Javascript object>"
      ]
     },
     "metadata": {},
     "output_type": "display_data"
    },
    {
     "name": "stdout",
     "output_type": "stream",
     "text": [
      "\n",
      "Numpy array:\n",
      "[1 2 3 4 5]\n",
      "\n",
      "Seaborn plot of GDP data:\n"
     ]
    },
    {
     "data": {
      "application/javascript": [
       "\n",
       "        if (window._pyforest_update_imports_cell) { window._pyforest_update_imports_cell('import seaborn as sns\\nimport matplotlib.pyplot as plt\\nimport pandas as pd\\nimport numpy as np'); }\n",
       "    "
      ],
      "text/plain": [
       "<IPython.core.display.Javascript object>"
      ]
     },
     "metadata": {},
     "output_type": "display_data"
    },
    {
     "data": {
      "application/javascript": [
       "\n",
       "        if (window._pyforest_update_imports_cell) { window._pyforest_update_imports_cell('import seaborn as sns\\nimport matplotlib.pyplot as plt\\nimport pandas as pd\\nimport numpy as np'); }\n",
       "    "
      ],
      "text/plain": [
       "<IPython.core.display.Javascript object>"
      ]
     },
     "metadata": {},
     "output_type": "display_data"
    },
    {
     "data": {
      "image/png": "[encoded data removed]",
      "text/plain": [
       "<Figure size 432x288 with 1 Axes>"
      ]
     },
     "metadata": {
      "needs_background": "light"
     },
     "output_type": "display_data"
    },
    {
     "name": "stdout",
     "output_type": "stream",
     "text": [
      "\n",
      "Active imports by pyforest:\n",
      "import seaborn as sns\n",
      "import matplotlib.pyplot as plt\n",
      "import pandas as pd\n",
      "import numpy as np\n",
      "['import seaborn as sns', 'import matplotlib.pyplot as plt', 'import pandas as pd', 'import numpy as np']\n"
     ]
    }
   ],
   "source": [
    "# Import pyforest for lazy loading\n",
    "import pyforest\n",
    "\n",
    "# Working with pandas without manually importing it\n",
    "df = pd.DataFrame({\n",
    "    'Country': ['USA', 'Canada', 'Germany', 'UK', 'France'],\n",
    "    'GDP': [21.43, 1.73, 3.86, 2.83, 2.72]\n",
    "})\n",
    "\n",
    "# Check the content of the DataFrame (pandas is lazily imported when pd.DataFrame is used)\n",
    "print(\"Displaying DataFrame:\")\n",
    "print(df)\n",
    "\n",
    "# Plotting using matplotlib (Lazy loading will import matplotlib only when plt is used)\n",
    "print(\"\\nPlotting GDP of countries:\")\n",
    "df.plot(kind='bar', x='Country', y='GDP')\n",
    "plt.show()  # matplotlib is lazily loaded when plt.show() is called\n",
    "\n",
    "# Performing numerical calculations using numpy\n",
    "arr = np.array([1, 2, 3, 4, 5])  # numpy is lazily loaded at this point\n",
    "print(\"\\nNumpy array:\")\n",
    "print(arr)\n",
    "\n",
    "# Using seaborn to create a more advanced plot\n",
    "print(\"\\nSeaborn plot of GDP data:\")\n",
    "sns.barplot(x='Country', y='GDP', data=df)  # seaborn is lazily loaded when sns.barplot() is called\n",
    "plt.show()\n",
    "\n",
    "# Checking which libraries have been imported\n",
    "print(\"\\nActive imports by pyforest:\")\n",
    "print(pyforest.active_imports())\n"
   ]
  },
  {
   "cell_type": "markdown",
   "id": "3d0a04ab",
   "metadata": {},
   "source": [
    "# Explanation:\n",
    "\n",
    "pandas (pd): When pd.DataFrame() is called, pyforest lazily imports pandas for you. \n",
    "No explicit import statement for pandas is needed.\n",
    "\n",
    "matplotlib (plt): Similarly, when plt.show() is called for the first time, matplotlib is automatically imported.\n",
    "\n",
    "numpy (np): Only when np.array() is used is numpy imported.\n",
    "\n",
    "seaborn (sns): The sns.barplot() triggers the import of seaborn.\n",
    "\n",
    "pyforest.active_imports(): This command shows which libraries have been lazily imported so far.\n",
    "\n",
    "Output:\n",
    "First, the DataFrame will be printed, demonstrating that pandas was imported without an explicit import statement.\n",
    "\n",
    "Then a bar plot will be displayed showing the GDP of the countries, showing that matplotlib was imported when plotting.\n",
    "\n",
    "Next, the Numpy array will be printed.\n",
    "\n",
    "Finally, another bar plot using seaborn will be shown, demonstrating seaborn was imported on demand.\n",
    "\n",
    "The final pyforest.active_imports() command will show a list of libraries that were used and imported during execution."
   ]
  },
  {
   "cell_type": "markdown",
   "id": "9fab173b",
   "metadata": {},
   "source": [
    "# When Not to Use pyforest\n",
    "\n",
    "1. In large projects, lazy importing may make the code execution slower, as libraries are loaded only when needed.\n",
    "\n",
    "2. If you are looking for a more explicit style where you can easily trace your imports, manual imports are still preferred."
   ]
  },
  {
   "cell_type": "code",
   "execution_count": null,
   "id": "5e883a04",
   "metadata": {},
   "outputs": [],
   "source": []
  },
  {
   "cell_type": "code",
   "execution_count": null,
   "id": "4c34b848",
   "metadata": {},
   "outputs": [],
   "source": []
  }
 ],
 "metadata": {
  "kernelspec": {
   "display_name": "Python 3 (ipykernel)",
   "language": "python",
   "name": "python3"
  },
  "language_info": {
   "codemirror_mode": {
    "name": "ipython",
    "version": 3
   },
   "file_extension": ".py",
   "mimetype": "text/x-python",
   "name": "python",
   "nbconvert_exporter": "python",
   "pygments_lexer": "ipython3",
   "version": "3.9.12"
  }
 },
 "nbformat": 4,
 "nbformat_minor": 5
}
